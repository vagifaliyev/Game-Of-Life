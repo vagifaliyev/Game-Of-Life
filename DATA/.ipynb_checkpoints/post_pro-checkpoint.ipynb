{
 "cells": [
  {
   "cell_type": "code",
   "execution_count": 1,
   "metadata": {},
   "outputs": [],
   "source": [
    "import numpy as np\n",
    "import matplotlib.pyplot as plt\n",
    "\n",
    "# --------------------------------------------\n",
    "# change below parameters \n",
    "it = 10      # <--- number of iterations\n",
    "nrows = 2   # <--- number of rows \n",
    "ncols = 2   # <--- number of columns (e.g. 6 processes -- 3 row by 2 column)\n",
    "# --------------------------------------------\n",
    "\n",
    "a = []\n",
    "for i in range(0, it):\n",
    "    for r in range(nrows):\n",
    "        for c in range(ncols):\n",
    "             globals()['data_%i_%d_%d' % (i,r,c)] = np.loadtxt('it_%d_row_%d_col_%d.txt'%(i,r,c),bool)\n",
    "             a.append(np.loadtxt('it_%d_row_%d_col_%d.txt'%(i,r,c),bool))\n",
    "\n",
    "c = []\n",
    "b = []\n",
    "d = []          \n",
    "for iteration in range(it):\n",
    "    for row in range(nrows):\n",
    "        for col in range(ncols):\n",
    "            b.append(a[iteration*nrows*ncols + row*ncols +col])\n",
    "        c.append(b)\n",
    "        b=[]\n",
    "    d.append(c)\n",
    "    c=[]\n",
    "\n",
    "f = []\n",
    "e = []\n",
    "for t in range(it):\n",
    "    for col in range(nrows):\n",
    "         globals()['row_%d_'%col] = np.concatenate(d[t][col],axis=1)   # column wise merge\n",
    "         e.append(np.concatenate(d[t][col],axis=1))                    # column wise merge\n",
    "    f.append(e)\n",
    "    e = []\n",
    "\n",
    "for t in range(it):\n",
    "    matrix = np.concatenate((f[t]),axis=0)                             #row wise merge\n",
    "    plt.imshow(matrix, cmap='Greens')\n",
    "    plt.savefig('iteration_%d.jpg'%t)\n",
    "    np.savetxt('iteration_%d.txt'%t,matrix,fmt='%d')\n"
   ]
  },
  {
   "cell_type": "code",
   "execution_count": 2,
   "metadata": {},
   "outputs": [],
   "source": [
    "import imageio\n",
    "\n",
    "filenames = [];\n",
    "for i in range(it):\n",
    "    filenames.append(\"iteration_%d.jpg\"%i)\n",
    "\n",
    "with imageio.get_writer('animation.gif', mode='I') as writer:\n",
    "    for filename in filenames:\n",
    "        image = imageio.imread(filename)\n",
    "        writer.append_data(image)"
   ]
  },
  {
   "cell_type": "code",
   "execution_count": 3,
   "metadata": {},
   "outputs": [
    {
     "ename": "NameError",
     "evalue": "name 'Print' is not defined",
     "output_type": "error",
     "traceback": [
      "\u001b[0;31m---------------------------------------------------------------------------\u001b[0m",
      "\u001b[0;31mNameError\u001b[0m                                 Traceback (most recent call last)",
      "\u001b[0;32m<ipython-input-3-5c5b3c1b6837>\u001b[0m in \u001b[0;36m<module>\u001b[0;34m\u001b[0m\n\u001b[0;32m----> 1\u001b[0;31m \u001b[0mPrint\u001b[0m\u001b[0;34m(\u001b[0m\u001b[0;34m\"Done\"\u001b[0m\u001b[0;34m)\u001b[0m\u001b[0;34m\u001b[0m\u001b[0;34m\u001b[0m\u001b[0m\n\u001b[0m",
      "\u001b[0;31mNameError\u001b[0m: name 'Print' is not defined"
     ]
    }
   ],
   "source": [
    "print(\"Done\")"
   ]
  },
  {
   "cell_type": "code",
   "execution_count": null,
   "metadata": {},
   "outputs": [],
   "source": []
  }
 ],
 "metadata": {
  "kernelspec": {
   "display_name": "Python 3",
   "language": "python",
   "name": "python3"
  },
  "language_info": {
   "codemirror_mode": {
    "name": "ipython",
    "version": 3
   },
   "file_extension": ".py",
   "mimetype": "text/x-python",
   "name": "python",
   "nbconvert_exporter": "python",
   "pygments_lexer": "ipython3",
   "version": "3.7.3"
  }
 },
 "nbformat": 4,
 "nbformat_minor": 2
}
