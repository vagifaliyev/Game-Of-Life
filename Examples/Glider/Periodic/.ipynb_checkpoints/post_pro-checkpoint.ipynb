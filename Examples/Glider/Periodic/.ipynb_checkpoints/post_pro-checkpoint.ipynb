{
 "cells": [
  {
   "cell_type": "code",
   "execution_count": 8,
   "metadata": {},
   "outputs": [
    {
     "name": "stderr",
     "output_type": "stream",
     "text": [
      "ERROR:root:Internal Python error in the inspect module.\n",
      "Below is the traceback from this internal error.\n",
      "\n"
     ]
    },
    {
     "name": "stdout",
     "output_type": "stream",
     "text": [
      "Traceback (most recent call last):\n",
      "  File \"/Users/vagifaliyev/anaconda3/lib/python3.7/site-packages/IPython/core/interactiveshell.py\", line 3325, in run_code\n",
      "    exec(code_obj, self.user_global_ns, self.user_ns)\n",
      "  File \"<ipython-input-8-081a034c5319>\", line 15, in <module>\n",
      "    globals()['data_%i_%d_%d' % (i,r,c)] = np.loadtxt('it_%d_row_%d_col_%d.txt'%(i,r,c),bool)\n",
      "  File \"/Users/vagifaliyev/anaconda3/lib/python3.7/site-packages/numpy/lib/npyio.py\", line 962, in loadtxt\n",
      "    fh = np.lib._datasource.open(fname, 'rt', encoding=encoding)\n",
      "  File \"/Users/vagifaliyev/anaconda3/lib/python3.7/site-packages/numpy/lib/_datasource.py\", line 265, in open\n",
      "    ds = DataSource(destpath)\n",
      "  File \"/Users/vagifaliyev/anaconda3/lib/python3.7/site-packages/numpy/lib/_datasource.py\", line 322, in __init__\n",
      "    self._destpath = os.path.abspath(destpath)\n",
      "  File \"/Users/vagifaliyev/anaconda3/lib/python3.7/posixpath.py\", line 383, in abspath\n",
      "    cwd = os.getcwd()\n",
      "PermissionError: [Errno 1] Operation not permitted\n",
      "\n",
      "During handling of the above exception, another exception occurred:\n",
      "\n",
      "Traceback (most recent call last):\n",
      "  File \"/Users/vagifaliyev/anaconda3/lib/python3.7/site-packages/IPython/core/interactiveshell.py\", line 2039, in showtraceback\n",
      "    stb = value._render_traceback_()\n",
      "AttributeError: 'PermissionError' object has no attribute '_render_traceback_'\n",
      "\n",
      "During handling of the above exception, another exception occurred:\n",
      "\n",
      "Traceback (most recent call last):\n",
      "  File \"/Users/vagifaliyev/anaconda3/lib/python3.7/site-packages/IPython/core/ultratb.py\", line 1101, in get_records\n",
      "    return _fixed_getinnerframes(etb, number_of_lines_of_context, tb_offset)\n",
      "  File \"/Users/vagifaliyev/anaconda3/lib/python3.7/site-packages/IPython/core/ultratb.py\", line 319, in wrapped\n",
      "    return f(*args, **kwargs)\n",
      "  File \"/Users/vagifaliyev/anaconda3/lib/python3.7/site-packages/IPython/core/ultratb.py\", line 353, in _fixed_getinnerframes\n",
      "    records = fix_frame_records_filenames(inspect.getinnerframes(etb, context))\n",
      "  File \"/Users/vagifaliyev/anaconda3/lib/python3.7/inspect.py\", line 1502, in getinnerframes\n",
      "    frameinfo = (tb.tb_frame,) + getframeinfo(tb, context)\n",
      "  File \"/Users/vagifaliyev/anaconda3/lib/python3.7/inspect.py\", line 1460, in getframeinfo\n",
      "    filename = getsourcefile(frame) or getfile(frame)\n",
      "  File \"/Users/vagifaliyev/anaconda3/lib/python3.7/inspect.py\", line 696, in getsourcefile\n",
      "    if getattr(getmodule(object, filename), '__loader__', None) is not None:\n",
      "  File \"/Users/vagifaliyev/anaconda3/lib/python3.7/inspect.py\", line 725, in getmodule\n",
      "    file = getabsfile(object, _filename)\n",
      "  File \"/Users/vagifaliyev/anaconda3/lib/python3.7/inspect.py\", line 709, in getabsfile\n",
      "    return os.path.normcase(os.path.abspath(_filename))\n",
      "  File \"/Users/vagifaliyev/anaconda3/lib/python3.7/posixpath.py\", line 383, in abspath\n",
      "    cwd = os.getcwd()\n",
      "PermissionError: [Errno 1] Operation not permitted\n"
     ]
    },
    {
     "ename": "PermissionError",
     "evalue": "[Errno 1] Operation not permitted",
     "output_type": "error",
     "traceback": [
      "\u001b[0;31m---------------------------------------------------------------------------\u001b[0m"
     ]
    }
   ],
   "source": [
    "import numpy as np\n",
    "import matplotlib.pyplot as plt\n",
    "\n",
    "# --------------------------------------------\n",
    "# change below parameters \n",
    "it = 100    # <--- number of iterations\n",
    "nrows = 2   # <--- number of rows \n",
    "ncols = 2   # <--- number of columns (e.g. 6 processes -- 3 row by 2 column)\n",
    "# --------------------------------------------\n",
    "\n",
    "a = []\n",
    "for i in range(0, it):\n",
    "    for r in range(nrows):\n",
    "        for c in range(ncols):\n",
    "             globals()['data_%i_%d_%d' % (i,r,c)] = np.loadtxt('it_%d_row_%d_col_%d.txt'%(i,r,c),bool)\n",
    "             a.append(np.loadtxt('it_%d_row_%d_col_%d.txt'%(i,r,c),bool))\n",
    "\n",
    "c = []\n",
    "b = []\n",
    "d = []          \n",
    "for iteration in range(it):\n",
    "    for row in range(nrows):\n",
    "        for col in range(ncols):\n",
    "            b.append(a[iteration*nrows*ncols + row*ncols +col])\n",
    "        c.append(b)\n",
    "        b=[]\n",
    "    d.append(c)\n",
    "    c=[]\n",
    "\n",
    "f = []\n",
    "e = []\n",
    "for t in range(it):\n",
    "    for col in range(nrows):\n",
    "         globals()['row_%d_'%col] = np.concatenate(d[t][col],axis=1)   # column wise merge\n",
    "         e.append(np.concatenate(d[t][col],axis=1))                    # column wise merge\n",
    "    f.append(e)\n",
    "    e = []\n",
    "\n",
    "for t in range(it):\n",
    "    matrix = np.concatenate((f[t]),axis=0)                             #row wise merge\n",
    "    plt.imshow(matrix, cmap='Greens')\n",
    "    plt.savefig('iteration_%d.jpg'%t)\n",
    "    np.savetxt('iteration_%d.txt'%t,matrix,fmt='%d')\n"
   ]
  },
  {
   "cell_type": "code",
   "execution_count": 9,
   "metadata": {},
   "outputs": [
    {
     "name": "stderr",
     "output_type": "stream",
     "text": [
      "ERROR:root:Internal Python error in the inspect module.\n",
      "Below is the traceback from this internal error.\n",
      "\n"
     ]
    },
    {
     "name": "stdout",
     "output_type": "stream",
     "text": [
      "Traceback (most recent call last):\n",
      "  File \"/Users/vagifaliyev/anaconda3/lib/python3.7/site-packages/IPython/core/interactiveshell.py\", line 3325, in run_code\n",
      "    exec(code_obj, self.user_global_ns, self.user_ns)\n",
      "  File \"<ipython-input-9-a81ac8d87b00>\", line 7, in <module>\n",
      "    with imageio.get_writer('animation.gif', mode='I') as writer:\n",
      "  File \"/Users/vagifaliyev/anaconda3/lib/python3.7/site-packages/imageio/core/functions.py\", line 174, in get_writer\n",
      "    request = Request(uri, \"w\" + mode, **kwargs)\n",
      "  File \"/Users/vagifaliyev/anaconda3/lib/python3.7/site-packages/imageio/core/request.py\", line 126, in __init__\n",
      "    self._parse_uri(uri)\n",
      "  File \"/Users/vagifaliyev/anaconda3/lib/python3.7/site-packages/imageio/core/request.py\", line 268, in _parse_uri\n",
      "    self._filename = os.path.abspath(self._filename)\n",
      "  File \"/Users/vagifaliyev/anaconda3/lib/python3.7/posixpath.py\", line 383, in abspath\n",
      "    cwd = os.getcwd()\n",
      "PermissionError: [Errno 1] Operation not permitted\n",
      "\n",
      "During handling of the above exception, another exception occurred:\n",
      "\n",
      "Traceback (most recent call last):\n",
      "  File \"/Users/vagifaliyev/anaconda3/lib/python3.7/site-packages/IPython/core/interactiveshell.py\", line 2039, in showtraceback\n",
      "    stb = value._render_traceback_()\n",
      "AttributeError: 'PermissionError' object has no attribute '_render_traceback_'\n",
      "\n",
      "During handling of the above exception, another exception occurred:\n",
      "\n",
      "Traceback (most recent call last):\n",
      "  File \"/Users/vagifaliyev/anaconda3/lib/python3.7/site-packages/IPython/core/ultratb.py\", line 1101, in get_records\n",
      "    return _fixed_getinnerframes(etb, number_of_lines_of_context, tb_offset)\n",
      "  File \"/Users/vagifaliyev/anaconda3/lib/python3.7/site-packages/IPython/core/ultratb.py\", line 319, in wrapped\n",
      "    return f(*args, **kwargs)\n",
      "  File \"/Users/vagifaliyev/anaconda3/lib/python3.7/site-packages/IPython/core/ultratb.py\", line 353, in _fixed_getinnerframes\n",
      "    records = fix_frame_records_filenames(inspect.getinnerframes(etb, context))\n",
      "  File \"/Users/vagifaliyev/anaconda3/lib/python3.7/inspect.py\", line 1502, in getinnerframes\n",
      "    frameinfo = (tb.tb_frame,) + getframeinfo(tb, context)\n",
      "  File \"/Users/vagifaliyev/anaconda3/lib/python3.7/inspect.py\", line 1460, in getframeinfo\n",
      "    filename = getsourcefile(frame) or getfile(frame)\n",
      "  File \"/Users/vagifaliyev/anaconda3/lib/python3.7/inspect.py\", line 696, in getsourcefile\n",
      "    if getattr(getmodule(object, filename), '__loader__', None) is not None:\n",
      "  File \"/Users/vagifaliyev/anaconda3/lib/python3.7/inspect.py\", line 725, in getmodule\n",
      "    file = getabsfile(object, _filename)\n",
      "  File \"/Users/vagifaliyev/anaconda3/lib/python3.7/inspect.py\", line 709, in getabsfile\n",
      "    return os.path.normcase(os.path.abspath(_filename))\n",
      "  File \"/Users/vagifaliyev/anaconda3/lib/python3.7/posixpath.py\", line 383, in abspath\n",
      "    cwd = os.getcwd()\n",
      "PermissionError: [Errno 1] Operation not permitted\n"
     ]
    },
    {
     "ename": "PermissionError",
     "evalue": "[Errno 1] Operation not permitted",
     "output_type": "error",
     "traceback": [
      "\u001b[0;31m---------------------------------------------------------------------------\u001b[0m"
     ]
    }
   ],
   "source": [
    "import imageio\n",
    "\n",
    "filenames = [];\n",
    "for i in range(it):\n",
    "    filenames.append(\"iteration_%d.jpg\"%i)\n",
    "\n",
    "with imageio.get_writer('animation.gif', mode='I') as writer:\n",
    "    for filename in filenames:\n",
    "        image = imageio.imread(filename)\n",
    "        writer.append_data(image)"
   ]
  },
  {
   "cell_type": "code",
   "execution_count": null,
   "metadata": {},
   "outputs": [],
   "source": []
  },
  {
   "cell_type": "code",
   "execution_count": null,
   "metadata": {},
   "outputs": [],
   "source": []
  }
 ],
 "metadata": {
  "kernelspec": {
   "display_name": "Python 3",
   "language": "python",
   "name": "python3"
  },
  "language_info": {
   "codemirror_mode": {
    "name": "ipython",
    "version": 3
   },
   "file_extension": ".py",
   "mimetype": "text/x-python",
   "name": "python",
   "nbconvert_exporter": "python",
   "pygments_lexer": "ipython3",
   "version": "3.7.3"
  }
 },
 "nbformat": 4,
 "nbformat_minor": 2
}
